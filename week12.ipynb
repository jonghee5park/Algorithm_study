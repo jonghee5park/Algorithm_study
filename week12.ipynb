{
 "cells": [
  {
   "cell_type": "code",
   "execution_count": null,
   "id": "36149291",
   "metadata": {},
   "outputs": [],
   "source": [
    "https://school.programmers.co.kr/learn/courses/30/lessons/42628"
   ]
  },
  {
   "cell_type": "code",
   "execution_count": null,
   "id": "9012f0d5",
   "metadata": {},
   "outputs": [],
   "source": [
    "이중우선순위큐\n",
    "문제 설명\n",
    "이중 우선순위 큐는 다음 연산을 할 수 있는 자료구조를 말합니다.\n",
    "\n",
    "명령어\t수신 탑(높이)\n",
    "I 숫자\t큐에 주어진 숫자를 삽입합니다.\n",
    "D 1\t큐에서 최댓값을 삭제합니다.\n",
    "D -1\t큐에서 최솟값을 삭제합니다.\n",
    "이중 우선순위 큐가 할 연산 operations가 매개변수로 주어질 때, 모든 연산을 처리한 후 큐가 비어있으면 [0,0] 비어있지 않으면 [최댓값, 최솟값]을 return 하도록 solution 함수를 구현해주세요.\n",
    "\n",
    "제한사항\n",
    "operations는 길이가 1 이상 1,000,000 이하인 문자열 배열입니다.\n",
    "operations의 원소는 큐가 수행할 연산을 나타냅니다.\n",
    "원소는 “명령어 데이터” 형식으로 주어집니다.- 최댓값/최솟값을 삭제하는 연산에서 최댓값/최솟값이 둘 이상인 경우, 하나만 삭제합니다.\n",
    "빈 큐에 데이터를 삭제하라는 연산이 주어질 경우, 해당 연산은 무시합니다.\n",
    "입출력 예\n",
    "operations\treturn\n",
    "[\"I 16\", \"I -5643\", \"D -1\", \"D 1\", \"D 1\", \"I 123\", \"D -1\"]\t[0,0]\n",
    "[\"I -45\", \"I 653\", \"D 1\", \"I -642\", \"I 45\", \"I 97\", \"D 1\", \"D -1\", \"I 333\"]\t[333, -45]\n",
    "입출력 예 설명\n",
    "입출력 예 #1\n",
    "\n",
    "16과 -5643을 삽입합니다.\n",
    "최솟값을 삭제합니다. -5643이 삭제되고 16이 남아있습니다.\n",
    "최댓값을 삭제합니다. 16이 삭제되고 이중 우선순위 큐는 비어있습니다.\n",
    "우선순위 큐가 비어있으므로 최댓값 삭제 연산이 무시됩니다.\n",
    "123을 삽입합니다.\n",
    "최솟값을 삭제합니다. 123이 삭제되고 이중 우선순위 큐는 비어있습니다.\n",
    "따라서 [0, 0]을 반환합니다.\n",
    "\n",
    "입출력 예 #2\n",
    "\n",
    "-45와 653을 삽입후 최댓값(653)을 삭제합니다. -45가 남아있습니다.\n",
    "-642, 45, 97을 삽입 후 최댓값(97), 최솟값(-642)을 삭제합니다. -45와 45가 남아있습니다.\n",
    "333을 삽입합니다.\n",
    "이중 우선순위 큐에 -45, 45, 333이 남아있으므로, [333, -45]를 반환합니다."
   ]
  },
  {
   "cell_type": "code",
   "execution_count": null,
   "id": "d0ecf91f",
   "metadata": {},
   "outputs": [],
   "source": [
    "import heapq\n",
    "minheap = []\n",
    "maxheap = []\n",
    "def solution(operations):\n",
    "    for op in operations:\n",
    "        if op[0] == 'I':\n",
    "            num,is_negative = 0, True if op[2] == '-' else False\n",
    "            num = int(op[2:])\n",
    "            heapq.heappush(minheap,num)\n",
    "            heapq.heappush(maxheap,(-num,num))\n",
    "        elif op[0] == 'D':\n",
    "            if not minheap:\n",
    "                pass\n",
    "            elif op[2] == '1':\n",
    "                _, num = heapq.heappop(maxheap)\n",
    "                minheap.remove(num)\n",
    "            else :\n",
    "                num = heapq.heappop(minheap)\n",
    "                maxheap.remove((-num,num))\n",
    "    if minheap :\n",
    "        if len(minheap) == 1:\n",
    "            num = heapq.heappop(minheap) \n",
    "            return [num,num]\n",
    "        else :\n",
    "            min_num = heapq.heappop(minheap)\n",
    "            _, max_num = heapq.heappop(maxheap)\n",
    "            return [max_num, min_num]\n",
    "    else :\n",
    "        return [0,0]"
   ]
  },
  {
   "cell_type": "code",
   "execution_count": null,
   "id": "32c58768",
   "metadata": {},
   "outputs": [],
   "source": [
    "https://school.programmers.co.kr/learn/courses/30/lessons/42626"
   ]
  },
  {
   "cell_type": "code",
   "execution_count": null,
   "id": "f4628fd6",
   "metadata": {},
   "outputs": [],
   "source": [
    "더 맵게\n",
    "문제 설명\n",
    "매운 것을 좋아하는 Leo는 모든 음식의 스코빌 지수를 K 이상으로 만들고 싶습니다. 모든 음식의 스코빌 지수를 K 이상으로 만들기 위해 Leo는 스코빌 지수가 가장 낮은 두 개의 음식을 아래와 같이 특별한 방법으로 섞어 새로운 음식을 만듭니다.\n",
    "\n",
    "섞은 음식의 스코빌 지수 = 가장 맵지 않은 음식의 스코빌 지수 + (두 번째로 맵지 않은 음식의 스코빌 지수 * 2)\n",
    "Leo는 모든 음식의 스코빌 지수가 K 이상이 될 때까지 반복하여 섞습니다.\n",
    "Leo가 가진 음식의 스코빌 지수를 담은 배열 scoville과 원하는 스코빌 지수 K가 주어질 때, 모든 음식의 스코빌 지수를 K 이상으로 만들기 위해 섞어야 하는 최소 횟수를 return 하도록 solution 함수를 작성해주세요.\n",
    "\n",
    "제한 사항\n",
    "scoville의 길이는 2 이상 1,000,000 이하입니다.\n",
    "K는 0 이상 1,000,000,000 이하입니다.\n",
    "scoville의 원소는 각각 0 이상 1,000,000 이하입니다.\n",
    "모든 음식의 스코빌 지수를 K 이상으로 만들 수 없는 경우에는 -1을 return 합니다.\n",
    "입출력 예\n",
    "scoville\tK\treturn\n",
    "[1, 2, 3, 9, 10, 12]\t7\t2\n",
    "입출력 예 설명\n",
    "스코빌 지수가 1인 음식과 2인 음식을 섞으면 음식의 스코빌 지수가 아래와 같이 됩니다.\n",
    "새로운 음식의 스코빌 지수 = 1 + (2 * 2) = 5\n",
    "가진 음식의 스코빌 지수 = [5, 3, 9, 10, 12]\n",
    "\n",
    "스코빌 지수가 3인 음식과 5인 음식을 섞으면 음식의 스코빌 지수가 아래와 같이 됩니다.\n",
    "새로운 음식의 스코빌 지수 = 3 + (5 * 2) = 13\n",
    "가진 음식의 스코빌 지수 = [13, 9, 10, 12]\n",
    "\n",
    "모든 음식의 스코빌 지수가 7 이상이 되었고 이때 섞은 횟수는 2회입니다."
   ]
  },
  {
   "cell_type": "code",
   "execution_count": null,
   "id": "2ba04364",
   "metadata": {},
   "outputs": [],
   "source": [
    "from heapq import *\n",
    "\n",
    "def solution(scoville, K):\n",
    "    count = 0\n",
    "    heapify(scoville)\n",
    "    while scoville[0] < K and len(scoville) > 1:\n",
    "        num1 = heappop(scoville)\n",
    "        num2 = heappop(scoville)\n",
    "        heappush(scoville, num1 + num2 * 2)\n",
    "        count += 1\n",
    "    return count if scoville[0] >= K else -1"
   ]
  },
  {
   "cell_type": "markdown",
   "id": "67d778da",
   "metadata": {},
   "source": [
    "![nn](img/12-1.png)"
   ]
  },
  {
   "cell_type": "code",
   "execution_count": null,
   "id": "c4969535",
   "metadata": {},
   "outputs": [],
   "source": []
  }
 ],
 "metadata": {
  "kernelspec": {
   "display_name": "Python 3 (ipykernel)",
   "language": "python",
   "name": "python3"
  },
  "language_info": {
   "codemirror_mode": {
    "name": "ipython",
    "version": 3
   },
   "file_extension": ".py",
   "mimetype": "text/x-python",
   "name": "python",
   "nbconvert_exporter": "python",
   "pygments_lexer": "ipython3",
   "version": "3.9.12"
  }
 },
 "nbformat": 4,
 "nbformat_minor": 5
}
