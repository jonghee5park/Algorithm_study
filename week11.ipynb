{
 "cells": [
  {
   "cell_type": "code",
   "execution_count": null,
   "id": "2a90909f",
   "metadata": {},
   "outputs": [],
   "source": [
    "https://school.programmers.co.kr/learn/courses/30/lessons/42862"
   ]
  },
  {
   "cell_type": "code",
   "execution_count": null,
   "id": "6eab3feb",
   "metadata": {},
   "outputs": [],
   "source": [
    "체육복\n",
    "문제 설명\n",
    "점심시간에 도둑이 들어, 일부 학생이 체육복을 도난당했습니다. 다행히 여벌 체육복이 있는 학생이 이들에게 체육복을 빌려주려 합니다. 학생들의 번호는 체격 순으로 매겨져 있어, 바로 앞번호의 학생이나 바로 뒷번호의 학생에게만 체육복을 빌려줄 수 있습니다. 예를 들어, 4번 학생은 3번 학생이나 5번 학생에게만 체육복을 빌려줄 수 있습니다. 체육복이 없으면 수업을 들을 수 없기 때문에 체육복을 적절히 빌려 최대한 많은 학생이 체육수업을 들어야 합니다.\n",
    "\n",
    "전체 학생의 수 n, 체육복을 도난당한 학생들의 번호가 담긴 배열 lost, 여벌의 체육복을 가져온 학생들의 번호가 담긴 배열 reserve가 매개변수로 주어질 때, 체육수업을 들을 수 있는 학생의 최댓값을 return 하도록 solution 함수를 작성해주세요.\n",
    "\n",
    "제한사항\n",
    "전체 학생의 수는 2명 이상 30명 이하입니다.\n",
    "체육복을 도난당한 학생의 수는 1명 이상 n명 이하이고 중복되는 번호는 없습니다.\n",
    "여벌의 체육복을 가져온 학생의 수는 1명 이상 n명 이하이고 중복되는 번호는 없습니다.\n",
    "여벌 체육복이 있는 학생만 다른 학생에게 체육복을 빌려줄 수 있습니다.\n",
    "여벌 체육복을 가져온 학생이 체육복을 도난당했을 수 있습니다. 이때 이 학생은 체육복을 하나만 도난당했다고 가정하며, 남은 체육복이 하나이기에 다른 학생에게는 체육복을 빌려줄 수 없습니다.\n",
    "입출력 예\n",
    "n\tlost\treserve\treturn\n",
    "5\t[2, 4]\t[1, 3, 5]\t5\n",
    "5\t[2, 4]\t[3]\t4\n",
    "3\t[3]\t[1]\t2\n",
    "입출력 예 설명\n",
    "예제 #1\n",
    "1번 학생이 2번 학생에게 체육복을 빌려주고, 3번 학생이나 5번 학생이 4번 학생에게 체육복을 빌려주면 학생 5명이 체육수업을 들을 수 있습니다.\n",
    "\n",
    "예제 #2\n",
    "3번 학생이 2번 학생이나 4번 학생에게 체육복을 빌려주면 학생 4명이 체육수업을 들을 수 있습니다.\n",
    "\n",
    "문제가 잘 안풀린다면😢\n",
    "힌트가 필요한가요? [코딩테스트 연습 힌트 모음집]으로 오세요! → 클릭\n",
    "\n",
    "출처"
   ]
  },
  {
   "cell_type": "code",
   "execution_count": null,
   "id": "619cc07c",
   "metadata": {},
   "outputs": [],
   "source": [
    "def solution(n, lost, reserve):\n",
    "    result_list = [x for x in range(1,n+1) if x not in lost]\n",
    "    cross_list = list(set(reserve)&set(lost))\n",
    "    for i in cross_list:\n",
    "        reserve.remove(i)\n",
    "        lost.remove(i)\n",
    "        result_list.append(i)            \n",
    "    \n",
    "    for i in sorted(lost):\n",
    "        if (i-1) in reserve:\n",
    "            result_list.append(i)\n",
    "            reserve.remove(i-1)  \n",
    "        elif (i+1) in reserve:\n",
    "            result_list.append(i)\n",
    "            reserve.remove(i+1)\n",
    "        else:continue          \n",
    "    answer = len(result_list)\n",
    "    return answer"
   ]
  },
  {
   "cell_type": "code",
   "execution_count": null,
   "id": "63909cb6",
   "metadata": {},
   "outputs": [],
   "source": [
    "https://www.acmicpc.net/problem/1931"
   ]
  },
  {
   "cell_type": "code",
   "execution_count": null,
   "id": "dd40367a",
   "metadata": {},
   "outputs": [],
   "source": [
    "1931번\n",
    "제출\n",
    "맞힌 사람\n",
    "숏코딩\n",
    "재채점 결과\n",
    "채점 현황\n",
    "강의\n",
    "질문 검색\n",
    "회의실 배정\n",
    "시간 제한\t메모리 제한\t제출\t정답\t맞힌 사람\t정답 비율\n",
    "2 초\t128 MB\t143456\t44855\t31709\t29.565%\n",
    "문제\n",
    "한 개의 회의실이 있는데 이를 사용하고자 하는 N개의 회의에 대하여 회의실 사용표를 만들려고 한다. 각 회의 I에 대해 시작시간과 끝나는 시간이 주어져 있고, 각 회의가 겹치지 않게 하면서 회의실을 사용할 수 있는 회의의 최대 개수를 찾아보자. 단, 회의는 한번 시작하면 중간에 중단될 수 없으며 한 회의가 끝나는 것과 동시에 다음 회의가 시작될 수 있다. 회의의 시작시간과 끝나는 시간이 같을 수도 있다. 이 경우에는 시작하자마자 끝나는 것으로 생각하면 된다.\n",
    "\n",
    "입력\n",
    "첫째 줄에 회의의 수 N(1 ≤ N ≤ 100,000)이 주어진다. 둘째 줄부터 N+1 줄까지 각 회의의 정보가 주어지는데 이것은 공백을 사이에 두고 회의의 시작시간과 끝나는 시간이 주어진다. 시작 시간과 끝나는 시간은 231-1보다 작거나 같은 자연수 또는 0이다.\n",
    "\n",
    "출력\n",
    "첫째 줄에 최대 사용할 수 있는 회의의 최대 개수를 출력한다.\n",
    "\n",
    "예제 입력 1 \n",
    "11\n",
    "1 4\n",
    "3 5\n",
    "0 6\n",
    "5 7\n",
    "3 8\n",
    "5 9\n",
    "6 10\n",
    "8 11\n",
    "8 12\n",
    "2 13\n",
    "12 14\n",
    "예제 출력 1 \n",
    "4\n",
    "힌트\n",
    "(1,4), (5,7), (8,11), (12,14) 를 이용할 수 있다."
   ]
  },
  {
   "cell_type": "code",
   "execution_count": null,
   "id": "ab65254f",
   "metadata": {},
   "outputs": [],
   "source": [
    "import sys\n",
    "\n",
    "N = int(sys.stdin.readline().rstrip())\n",
    "answer = []\n",
    "for i in range(N):\n",
    "    a, b = map(int, sys.stdin.readline().rstrip().split())\n",
    "    answer.append([a, b])\n",
    "\n",
    "answer.sort(key=lambda x: (x[1], x[0]))\n",
    "\n",
    "count = 1\n",
    "now = answer[0][1]\n",
    "for i in range(1, N):\n",
    "    if answer[i][0] >= now:\n",
    "        count += 1\n",
    "        now = answer[i][1]\n",
    "\n",
    "print(count)"
   ]
  }
 ],
 "metadata": {
  "kernelspec": {
   "display_name": "Python 3 (ipykernel)",
   "language": "python",
   "name": "python3"
  },
  "language_info": {
   "codemirror_mode": {
    "name": "ipython",
    "version": 3
   },
   "file_extension": ".py",
   "mimetype": "text/x-python",
   "name": "python",
   "nbconvert_exporter": "python",
   "pygments_lexer": "ipython3",
   "version": "3.9.12"
  }
 },
 "nbformat": 4,
 "nbformat_minor": 5
}
