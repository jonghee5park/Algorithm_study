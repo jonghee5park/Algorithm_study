{
 "cells": [
  {
   "cell_type": "code",
   "execution_count": 1,
   "id": "a0e4721e",
   "metadata": {},
   "outputs": [
    {
     "ename": "SyntaxError",
     "evalue": "invalid syntax (3986184642.py, line 1)",
     "output_type": "error",
     "traceback": [
      "\u001b[1;36m  File \u001b[1;32m\"C:\\Users\\Playdata\\AppData\\Local\\Temp\\ipykernel_10316\\3986184642.py\"\u001b[1;36m, line \u001b[1;32m1\u001b[0m\n\u001b[1;33m    10872번\u001b[0m\n\u001b[1;37m         ^\u001b[0m\n\u001b[1;31mSyntaxError\u001b[0m\u001b[1;31m:\u001b[0m invalid syntax\n"
     ]
    }
   ],
   "source": [
    "10872번\n",
    "제출\n",
    "맞힌 사람\n",
    "숏코딩\n",
    "재채점 결과\n",
    "채점 현황\n",
    "내 제출\n",
    " 난이도 기여\n",
    "강의\n",
    "질문 검색\n",
    "팩토리얼 성공\n",
    "시간 제한\t메모리 제한\t제출\t정답\t맞힌 사람\t정답 비율\n",
    "1 초\t256 MB\t127675\t66466\t54677\t52.327%\n",
    "문제\n",
    "0보다 크거나 같은 정수 N이 주어진다. 이때, N!을 출력하는 프로그램을 작성하시오.\n",
    "\n",
    "입력\n",
    "첫째 줄에 정수 N(0 ≤ N ≤ 12)이 주어진다.\n",
    "\n",
    "출력\n",
    "첫째 줄에 N!을 출력한다.\n",
    "\n",
    "예제 입력 1 \n",
    "10\n",
    "예제 출력 1 \n",
    "3628800\n",
    "예제 입력 2 \n",
    "0\n",
    "예제 출력 2 \n",
    "1\n",
    "출처\n",
    "문제를 만든 사람: baekjoon\n",
    "알고리즘 분류\n",
    "수학\n",
    "구현\n",
    "조합론\n",
    "메모\n"
   ]
  },
  {
   "cell_type": "code",
   "execution_count": 2,
   "id": "951bfaaa",
   "metadata": {},
   "outputs": [
    {
     "name": "stdout",
     "output_type": "stream",
     "text": [
      "12\n",
      "1100\n"
     ]
    }
   ],
   "source": [
    "n  = int(input())\n",
    "def binary(x):\n",
    "    if x == 0:\n",
    "        return 0\n",
    "    return binary(x//2)*10+x%2\n",
    "print(binary(n))\n"
   ]
  },
  {
   "cell_type": "code",
   "execution_count": 4,
   "id": "e28fae17",
   "metadata": {},
   "outputs": [
    {
     "ename": "SyntaxError",
     "evalue": "invalid syntax (2138393215.py, line 1)",
     "output_type": "error",
     "traceback": [
      "\u001b[1;36m  File \u001b[1;32m\"C:\\Users\\Playdata\\AppData\\Local\\Temp\\ipykernel_10316\\2138393215.py\"\u001b[1;36m, line \u001b[1;32m1\u001b[0m\n\u001b[1;33m    10872번\u001b[0m\n\u001b[1;37m         ^\u001b[0m\n\u001b[1;31mSyntaxError\u001b[0m\u001b[1;31m:\u001b[0m invalid syntax\n"
     ]
    }
   ],
   "source": [
    "10872번\n",
    "제출\n",
    "맞힌 사람\n",
    "숏코딩\n",
    "재채점 결과\n",
    "채점 현황\n",
    "내 제출\n",
    " 난이도 기여\n",
    "강의\n",
    "질문 검색\n",
    "팩토리얼 성공\n",
    "시간 제한\t메모리 제한\t제출\t정답\t맞힌 사람\t정답 비율\n",
    "1 초\t256 MB\t127675\t66466\t54677\t52.327%\n",
    "문제\n",
    "0보다 크거나 같은 정수 N이 주어진다. 이때, N!을 출력하는 프로그램을 작성하시오.\n",
    "\n",
    "입력\n",
    "첫째 줄에 정수 N(0 ≤ N ≤ 12)이 주어진다.\n",
    "\n",
    "출력\n",
    "첫째 줄에 N!을 출력한다.\n",
    "\n",
    "예제 입력 1 \n",
    "10\n",
    "예제 출력 1 \n",
    "3628800\n",
    "예제 입력 2 \n",
    "0\n",
    "예제 출력 2 \n",
    "1\n",
    "출처\n",
    "문제를 만든 사람: baekjoon\n",
    "알고리즘 분류\n",
    "수학\n",
    "구현\n",
    "조합론\n",
    "메모"
   ]
  },
  {
   "cell_type": "code",
   "execution_count": 5,
   "id": "7d5fc95a",
   "metadata": {},
   "outputs": [
    {
     "name": "stdout",
     "output_type": "stream",
     "text": [
      "12\n",
      "479001600\n"
     ]
    }
   ],
   "source": [
    "import math\n",
    "n = int(input())\n",
    "\n",
    "res = math.factorial(n)\n",
    "print(res)"
   ]
  },
  {
   "cell_type": "code",
   "execution_count": null,
   "id": "fe491418",
   "metadata": {},
   "outputs": [],
   "source": [
    "전화번호 목록\n",
    "문제 설명\n",
    "전화번호부에 적힌 전화번호 중, 한 번호가 다른 번호의 접두어인 경우가 있는지 확인하려 합니다.\n",
    "전화번호가 다음과 같을 경우, 구조대 전화번호는 영석이의 전화번호의 접두사입니다.\n",
    "\n",
    "구조대 : 119\n",
    "박준영 : 97 674 223\n",
    "지영석 : 11 9552 4421\n",
    "전화번호부에 적힌 전화번호를 담은 배열 phone_book 이 solution 함수의 매개변수로 주어질 때, 어떤 번호가 다른 번호의 접두어인 경우가 있으면 false를 그렇지 않으면 true를 return 하도록 solution 함수를 작성해주세요.\n",
    "\n",
    "제한 사항\n",
    "phone_book의 길이는 1 이상 1,000,000 이하입니다.\n",
    "각 전화번호의 길이는 1 이상 20 이하입니다.\n",
    "같은 전화번호가 중복해서 들어있지 않습니다.\n",
    "입출력 예제\n",
    "phone_book\treturn\n",
    "[\"119\", \"97674223\", \"1195524421\"]\tfalse\n",
    "[\"123\",\"456\",\"789\"]\ttrue\n",
    "[\"12\",\"123\",\"1235\",\"567\",\"88\"]\tfalse\n",
    "입출력 예 설명\n",
    "입출력 예 #1\n",
    "앞에서 설명한 예와 같습니다.\n",
    "\n",
    "입출력 예 #2\n",
    "한 번호가 다른 번호의 접두사인 경우가 없으므로, 답은 true입니다.\n",
    "\n",
    "입출력 예 #3\n",
    "첫 번째 전화번호, “12”가 두 번째 전화번호 “123”의 접두사입니다. 따라서 답은 false입니다.\n",
    "\n",
    "알림\n",
    "\n",
    "2021년 3월 4일, 테스트 케이스가 변경되었습니다. 이로 인해 이전에 통과하던 코드가 더 이상 통과하지 않을 수 있습니다."
   ]
  },
  {
   "cell_type": "code",
   "execution_count": 6,
   "id": "9146b10a",
   "metadata": {},
   "outputs": [],
   "source": [
    "def solution(phone_book):\n",
    "    phone_book.sort()\n",
    "    \n",
    "    for i in range(len(phone_book)-1):\n",
    "        if phone_book[i+1].startswith(phone_book[i]):\n",
    "            return False\n",
    "    return True"
   ]
  },
  {
   "cell_type": "code",
   "execution_count": null,
   "id": "9021e149",
   "metadata": {},
   "outputs": [],
   "source": [
    "1759번\n",
    "제출\n",
    "맞힌 사람\n",
    "숏코딩\n",
    "재채점 결과\n",
    "채점 현황\n",
    "내 제출\n",
    "강의\n",
    "질문 검색\n",
    "암호 만들기\n",
    "시간 제한\t메모리 제한\t제출\t정답\t맞힌 사람\t정답 비율\n",
    "2 초\t128 MB\t52151\t24588\t17001\t44.608%\n",
    "문제\n",
    "바로 어제 최백준 조교가 방 열쇠를 주머니에 넣은 채 깜빡하고 서울로 가 버리는 황당한 상황에 직면한 조교들은, 702호에 새로운 보안 시스템을 설치하기로 하였다. 이 보안 시스템은 열쇠가 아닌 암호로 동작하게 되어 있는 시스템이다.\n",
    "\n",
    "암호는 서로 다른 L개의 알파벳 소문자들로 구성되며 최소 한 개의 모음(a, e, i, o, u)과 최소 두 개의 자음으로 구성되어 있다고 알려져 있다. 또한 정렬된 문자열을 선호하는 조교들의 성향으로 미루어 보아 암호를 이루는 알파벳이 암호에서 증가하는 순서로 배열되었을 것이라고 추측된다. 즉, abc는 가능성이 있는 암호이지만 bac는 그렇지 않다.\n",
    "\n",
    "새 보안 시스템에서 조교들이 암호로 사용했을 법한 문자의 종류는 C가지가 있다고 한다. 이 알파벳을 입수한 민식, 영식 형제는 조교들의 방에 침투하기 위해 암호를 추측해 보려고 한다. C개의 문자들이 모두 주어졌을 때, 가능성 있는 암호들을 모두 구하는 프로그램을 작성하시오.\n",
    "\n",
    "입력\n",
    "첫째 줄에 두 정수 L, C가 주어진다. (3 ≤ L ≤ C ≤ 15) 다음 줄에는 C개의 문자들이 공백으로 구분되어 주어진다. 주어지는 문자들은 알파벳 소문자이며, 중복되는 것은 없다.\n",
    "\n",
    "출력\n",
    "각 줄에 하나씩, 사전식으로 가능성 있는 암호를 모두 출력한다.\n",
    "\n",
    "예제 입력 1 \n",
    "4 6\n",
    "a t c i s w\n",
    "예제 출력 1 \n",
    "acis\n",
    "acit\n",
    "aciw\n",
    "acst\n",
    "acsw\n",
    "actw\n",
    "aist\n",
    "aisw\n",
    "aitw\n",
    "astw\n",
    "cist\n",
    "cisw\n",
    "citw\n",
    "istw\n",
    "출처\n",
    "문제를 만든 사람: author5\n",
    "잘못된 데이터를 찾은 사람: djm03178\n",
    "데이터를 추가한 사람: sksdong1\n",
    "알고리즘 분류\n",
    "보기\n",
    "\n",
    "메모"
   ]
  },
  {
   "cell_type": "code",
   "execution_count": null,
   "id": "e305209d",
   "metadata": {},
   "outputs": [],
   "source": [
    "#%%\n",
    "import itertools as it\n",
    "l, c = map(int, input().split(\" \"))\n",
    "s = input().split(\" \")\n",
    "\n",
    "#%%\n",
    "s.sort()\n",
    "\n",
    "vowels = ['a', 'e', 'i', 'o', 'u']\n",
    "\n",
    "for pw in it.combinations(s, l):\n",
    "    pw = list(pw)\n",
    "    tmp = pw[:]\n",
    "    \n",
    "    for i in vowels:\n",
    "        if i in pw:\n",
    "            pw.remove(i)\n",
    "\n",
    "    if l > len(pw) > 1:\n",
    "        print(*tmp,sep=\"\")"
   ]
  }
 ],
 "metadata": {
  "kernelspec": {
   "display_name": "Python 3 (ipykernel)",
   "language": "python",
   "name": "python3"
  },
  "language_info": {
   "codemirror_mode": {
    "name": "ipython",
    "version": 3
   },
   "file_extension": ".py",
   "mimetype": "text/x-python",
   "name": "python",
   "nbconvert_exporter": "python",
   "pygments_lexer": "ipython3",
   "version": "3.9.12"
  }
 },
 "nbformat": 4,
 "nbformat_minor": 5
}
