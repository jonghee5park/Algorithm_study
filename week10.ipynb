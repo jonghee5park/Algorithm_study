{
 "cells": [
  {
   "cell_type": "code",
   "execution_count": null,
   "id": "108c8f56",
   "metadata": {},
   "outputs": [],
   "source": [
    "https://www.acmicpc.net/problem/5585"
   ]
  },
  {
   "cell_type": "code",
   "execution_count": null,
   "id": "0c46198a",
   "metadata": {},
   "outputs": [],
   "source": [
    "5585번\n",
    "제출\n",
    "맞힌 사람\n",
    "숏코딩\n",
    "재채점 결과\n",
    "채점 현황\n",
    "질문 검색\n",
    "거스름돈 다국어\n",
    "시간 제한\t메모리 제한\t제출\t정답\t맞힌 사람\t정답 비율\n",
    "1 초\t128 MB\t32496\t20767\t17749\t63.742%\n",
    "문제\n",
    "타로는 자주 JOI잡화점에서 물건을 산다. JOI잡화점에는 잔돈으로 500엔, 100엔, 50엔, 10엔, 5엔, 1엔이 충분히 있고, 언제나 거스름돈 개수가 가장 적게 잔돈을 준다. 타로가 JOI잡화점에서 물건을 사고 카운터에서 1000엔 지폐를 한장 냈을 때, 받을 잔돈에 포함된 잔돈의 개수를 구하는 프로그램을 작성하시오.\n",
    "\n",
    "입력\n",
    "입력은 한줄로 이루어져있고, 타로가 지불할 돈(1 이상 1000미만의 정수) 1개가 쓰여져있다.\n",
    "\n",
    "출력\n",
    "제출할 출력 파일은 1행으로만 되어 있다. 잔돈에 포함된 매수를 출력하시오.\n",
    "\n",
    "예제 입력 1 \n",
    "380\n",
    "예제 출력 1 \n",
    "4\n",
    "예제 입력 2 \n",
    "1\n",
    "예제 출력 2 \n",
    "15\n",
    "출처"
   ]
  },
  {
   "cell_type": "code",
   "execution_count": null,
   "id": "70b77358",
   "metadata": {},
   "outputs": [],
   "source": [
    "price = int(input())\n",
    "change = 1000 - price\n",
    "coins = [500, 100, 50, 10, 5, 1]\n",
    "\n",
    "cnt = 0\n",
    "\n",
    "for coin in coins:\n",
    "    n = change // coin\n",
    "    if n:\n",
    "        cnt += n\n",
    "        change -= n*coin\n",
    "\n",
    "print(cnt)"
   ]
  },
  {
   "cell_type": "code",
   "execution_count": null,
   "id": "bfb5f3a8",
   "metadata": {},
   "outputs": [],
   "source": [
    "https://www.acmicpc.net/problem/10162"
   ]
  },
  {
   "cell_type": "code",
   "execution_count": null,
   "id": "53cd1fbd",
   "metadata": {},
   "outputs": [],
   "source": [
    "10162번\n",
    "제출\n",
    "맞힌 사람\n",
    "숏코딩\n",
    "재채점 결과\n",
    "채점 현황\n",
    "질문 검색\n",
    "전자레인지 서브태스크\n",
    "시간 제한\t메모리 제한\t제출\t정답\t맞힌 사람\t정답 비율\n",
    "1 초\t64 MB\t25419\t15036\t12980\t59.957%\n",
    "문제\n",
    "3개의 시간조절용 버튼 A B C가 달린 전자레인지가 있다. 각 버튼마다 일정한 시간이 지정되어 있어 해당 버튼을 한번 누를 때마다 그 시간이 동작시간에 더해진다. 버튼 A, B, C에 지정된 시간은 각각 5분, 1분, 10초이다.\n",
    "\n",
    "냉동음식마다 전자레인지로 요리해야할 시간 T가 초단위로 표시되어 있다. 우리는 A, B, C 3개의 버튼을 적절히 눌러서 그 시간의 합이 정확히 T초가 되도록 해야 한다. 단 버튼 A, B, C를 누른 횟수의 합은 항상 최소가 되어야 한다. 이것을 최소버튼 조작이라고 한다. \n",
    "\n",
    "만일 요리시간이 100초라고 하면(T=100) B를 1번, C는 4번 누르면 된다. 이와 다르게 C를 10번 눌러도 100초가 되지만 이 경우 10번은 최소 횟수가 아니기 때문이 답이 될 수 없다. 이 경우 B 1번, C 4번, 총 5번이 최소버튼 조작이다. 그리고 T=234와 같이 3개의 버튼으로 시간을 정확히 맞출 수 없는 경우도 있다. \n",
    "\n",
    "여러분은 주어진 요리시간 T초를 맞추기 위한 최소버튼 조작 방법을 구하는 프로그램을 작성해야 한다. \n",
    "\n",
    "입력\n",
    "첫 번째 줄에는 요리시간 T(초)가 정수로 주어져 있으며 그 범위는 1 ≤ T ≤ 10,000 이다. \n",
    "\n",
    "출력\n",
    "여러분은 T초를 위한 최소버튼 조작의 A B C 횟수를 첫 줄에 차례대로 출력해야 한다. 각각의 횟수 사이에는 빈 칸을 둔다. 해당 버튼을 누르지 않는 경우에는 숫자 0을 출력해야한다. 만일 제시된 3개의 버튼으로 T초를 맞출 수 없으면 음수 -1을 첫 줄에 출력해야 한다. \n",
    "\n",
    "서브태스크\n",
    "번호\t배점\t제한\n",
    "1\t30\t\n",
    "T ≤ 60\n",
    "\n",
    "2\t30\t\n",
    "T ≤ 300\n",
    "\n",
    "3\t40\t\n",
    "T ≤ 10,000\n",
    "\n",
    "예제 입력 1 \n",
    "100\n",
    "예제 출력 1 \n",
    "0 1 4\n",
    "예제 입력 2 \n",
    "189\n",
    "예제 출력 2 \n",
    "-1\n",
    "출처\n",
    "Olympiad > 한국정보올림피아드 > KOI 2014 > 초등부 1번\n",
    "\n",
    "문제의 오타를 찾은 사람: 79brue, ojh3316\n",
    "데이터를 만든 사람: baekjoon"
   ]
  },
  {
   "cell_type": "code",
   "execution_count": null,
   "id": "e0ac8d49",
   "metadata": {},
   "outputs": [],
   "source": [
    "a, b, c = 0, 0, 0\n",
    "time = int(input())\n",
    "if not time % 10:\n",
    "    a = time//300\n",
    "    b = (time%300)//60\n",
    "    c = (time%60//10)\n",
    "    print(a, b, c)\n",
    "else:\n",
    "    print(-1)"
   ]
  },
  {
   "cell_type": "markdown",
   "id": "305ccbef",
   "metadata": {},
   "source": [
    "![nn](img/10-1.png)"
   ]
  },
  {
   "cell_type": "markdown",
   "id": "62065e8e",
   "metadata": {},
   "source": [
    "![nn](img/10-2.png)"
   ]
  },
  {
   "cell_type": "markdown",
   "id": "a0a2c725",
   "metadata": {},
   "source": [
    "![nn](img/10-3.png)"
   ]
  },
  {
   "cell_type": "markdown",
   "id": "1658feb1",
   "metadata": {},
   "source": [
    "[관련자료](https://velog.io/@cyranocoding/%EB%8F%99%EC%A0%81-%EA%B3%84%ED%9A%8D%EB%B2%95Dynamic-Programming%EA%B3%BC-%ED%83%90%EC%9A%95%EB%B2%95Greedy-Algorithm-3yjyoohia5)"
   ]
  },
  {
   "cell_type": "code",
   "execution_count": null,
   "id": "59b5745b",
   "metadata": {},
   "outputs": [],
   "source": []
  }
 ],
 "metadata": {
  "kernelspec": {
   "display_name": "Python 3 (ipykernel)",
   "language": "python",
   "name": "python3"
  },
  "language_info": {
   "codemirror_mode": {
    "name": "ipython",
    "version": 3
   },
   "file_extension": ".py",
   "mimetype": "text/x-python",
   "name": "python",
   "nbconvert_exporter": "python",
   "pygments_lexer": "ipython3",
   "version": "3.9.12"
  }
 },
 "nbformat": 4,
 "nbformat_minor": 5
}
